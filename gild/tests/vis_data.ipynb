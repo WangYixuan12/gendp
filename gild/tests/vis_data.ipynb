{
 "cells": [
  {
   "cell_type": "code",
   "execution_count": 1,
   "metadata": {},
   "outputs": [
    {
     "name": "stdout",
     "output_type": "stream",
     "text": [
      "Jupyter environment detected. Enabling Open3D WebVisualizer.\n",
      "[Open3D INFO] WebRTC GUI backend enabled.\n",
      "[Open3D INFO] WebRTCWindowSystem: HTTP handshake server disabled.\n"
     ]
    }
   ],
   "source": [
    "import h5py\n",
    "import sys\n",
    "sys.path.append('/home/yixuan/general_dp/')\n",
    "from utils.draw_utils import aggr_point_cloud_from_data\n",
    "import numpy as np\n",
    "import open3d as o3d\n",
    "import copy\n",
    "\n",
    "import cv2"
   ]
  },
  {
   "cell_type": "code",
   "execution_count": 2,
   "metadata": {},
   "outputs": [],
   "source": [
    "data_path = '/media/yixuan_2T/diffusion_policy/data/robomimic/datasets/can/mh/image_rgb_84.hdf5'"
   ]
  },
  {
   "cell_type": "code",
   "execution_count": 3,
   "metadata": {},
   "outputs": [],
   "source": [
    "f = h5py.File(data_path, 'r')"
   ]
  },
  {
   "cell_type": "code",
   "execution_count": 4,
   "metadata": {},
   "outputs": [
    {
     "data": {
      "text/plain": [
       "<HDF5 file \"image_rgb_84.hdf5\" (mode r)>"
      ]
     },
     "execution_count": 4,
     "metadata": {},
     "output_type": "execute_result"
    }
   ],
   "source": [
    "f"
   ]
  },
  {
   "cell_type": "code",
   "execution_count": 5,
   "metadata": {},
   "outputs": [
    {
     "data": {
      "text/plain": [
       "<KeysViewHDF5 ['data', 'mask']>"
      ]
     },
     "execution_count": 5,
     "metadata": {},
     "output_type": "execute_result"
    }
   ],
   "source": [
    "f.keys()"
   ]
  },
  {
   "cell_type": "code",
   "execution_count": 6,
   "metadata": {},
   "outputs": [
    {
     "name": "stdout",
     "output_type": "stream",
     "text": [
      "300\n",
      "['demo_0', 'demo_1', 'demo_10', 'demo_100', 'demo_101', 'demo_102', 'demo_103', 'demo_104', 'demo_105', 'demo_106', 'demo_107', 'demo_108', 'demo_109', 'demo_11', 'demo_110', 'demo_111', 'demo_112', 'demo_113', 'demo_114', 'demo_115', 'demo_116', 'demo_117', 'demo_118', 'demo_119', 'demo_12', 'demo_120', 'demo_121', 'demo_122', 'demo_123', 'demo_124', 'demo_125', 'demo_126', 'demo_127', 'demo_128', 'demo_129', 'demo_13', 'demo_130', 'demo_131', 'demo_132', 'demo_133', 'demo_134', 'demo_135', 'demo_136', 'demo_137', 'demo_138', 'demo_139', 'demo_14', 'demo_140', 'demo_141', 'demo_142', 'demo_143', 'demo_144', 'demo_145', 'demo_146', 'demo_147', 'demo_148', 'demo_149', 'demo_15', 'demo_150', 'demo_151', 'demo_152', 'demo_153', 'demo_154', 'demo_155', 'demo_156', 'demo_157', 'demo_158', 'demo_159', 'demo_16', 'demo_160', 'demo_161', 'demo_162', 'demo_163', 'demo_164', 'demo_165', 'demo_166', 'demo_167', 'demo_168', 'demo_169', 'demo_17', 'demo_170', 'demo_171', 'demo_172', 'demo_173', 'demo_174', 'demo_175', 'demo_176', 'demo_177', 'demo_178', 'demo_179', 'demo_18', 'demo_180', 'demo_181', 'demo_182', 'demo_183', 'demo_184', 'demo_185', 'demo_186', 'demo_187', 'demo_188', 'demo_189', 'demo_19', 'demo_190', 'demo_191', 'demo_192', 'demo_193', 'demo_194', 'demo_195', 'demo_196', 'demo_197', 'demo_198', 'demo_199', 'demo_2', 'demo_20', 'demo_200', 'demo_201', 'demo_202', 'demo_203', 'demo_204', 'demo_205', 'demo_206', 'demo_207', 'demo_208', 'demo_209', 'demo_21', 'demo_210', 'demo_211', 'demo_212', 'demo_213', 'demo_214', 'demo_215', 'demo_216', 'demo_217', 'demo_218', 'demo_219', 'demo_22', 'demo_220', 'demo_221', 'demo_222', 'demo_223', 'demo_224', 'demo_225', 'demo_226', 'demo_227', 'demo_228', 'demo_229', 'demo_23', 'demo_230', 'demo_231', 'demo_232', 'demo_233', 'demo_234', 'demo_235', 'demo_236', 'demo_237', 'demo_238', 'demo_239', 'demo_24', 'demo_240', 'demo_241', 'demo_242', 'demo_243', 'demo_244', 'demo_245', 'demo_246', 'demo_247', 'demo_248', 'demo_249', 'demo_25', 'demo_250', 'demo_251', 'demo_252', 'demo_253', 'demo_254', 'demo_255', 'demo_256', 'demo_257', 'demo_258', 'demo_259', 'demo_26', 'demo_260', 'demo_261', 'demo_262', 'demo_263', 'demo_264', 'demo_265', 'demo_266', 'demo_267', 'demo_268', 'demo_269', 'demo_27', 'demo_270', 'demo_271', 'demo_272', 'demo_273', 'demo_274', 'demo_275', 'demo_276', 'demo_277', 'demo_278', 'demo_279', 'demo_28', 'demo_280', 'demo_281', 'demo_282', 'demo_283', 'demo_284', 'demo_285', 'demo_286', 'demo_287', 'demo_288', 'demo_289', 'demo_29', 'demo_290', 'demo_291', 'demo_292', 'demo_293', 'demo_294', 'demo_295', 'demo_296', 'demo_297', 'demo_298', 'demo_299', 'demo_3', 'demo_30', 'demo_31', 'demo_32', 'demo_33', 'demo_34', 'demo_35', 'demo_36', 'demo_37', 'demo_38', 'demo_39', 'demo_4', 'demo_40', 'demo_41', 'demo_42', 'demo_43', 'demo_44', 'demo_45', 'demo_46', 'demo_47', 'demo_48', 'demo_49', 'demo_5', 'demo_50', 'demo_51', 'demo_52', 'demo_53', 'demo_54', 'demo_55', 'demo_56', 'demo_57', 'demo_58', 'demo_59', 'demo_6', 'demo_60', 'demo_61', 'demo_62', 'demo_63', 'demo_64', 'demo_65', 'demo_66', 'demo_67', 'demo_68', 'demo_69', 'demo_7', 'demo_70', 'demo_71', 'demo_72', 'demo_73', 'demo_74', 'demo_75', 'demo_76', 'demo_77', 'demo_78', 'demo_79', 'demo_8', 'demo_80', 'demo_81', 'demo_82', 'demo_83', 'demo_84', 'demo_85', 'demo_86', 'demo_87', 'demo_88', 'demo_89', 'demo_9', 'demo_90', 'demo_91', 'demo_92', 'demo_93', 'demo_94', 'demo_95', 'demo_96', 'demo_97', 'demo_98', 'demo_99']\n"
     ]
    }
   ],
   "source": [
    "print(len(list(f['data'].keys())))\n",
    "print(list(f['data'].keys()))"
   ]
  },
  {
   "cell_type": "code",
   "execution_count": 7,
   "metadata": {},
   "outputs": [
    {
     "name": "stdout",
     "output_type": "stream",
     "text": [
      "6\n",
      "['actions', 'dones', 'next_obs', 'obs', 'rewards', 'states']\n"
     ]
    }
   ],
   "source": [
    "print(len(list(f['data']['demo_0'].keys())))\n",
    "print(list(f['data']['demo_0'].keys()))"
   ]
  },
  {
   "cell_type": "code",
   "execution_count": 8,
   "metadata": {},
   "outputs": [
    {
     "name": "stdout",
     "output_type": "stream",
     "text": [
      "<KeysViewHDF5 ['agentview_extrinsic', 'agentview_image', 'agentview_intrinsic', 'object', 'robot0_eef_pos', 'robot0_eef_quat', 'robot0_eef_vel_ang', 'robot0_eef_vel_lin', 'robot0_eye_in_hand_extrinsic', 'robot0_eye_in_hand_image', 'robot0_eye_in_hand_intrinsic', 'robot0_gripper_qpos', 'robot0_gripper_qvel', 'robot0_joint_pos', 'robot0_joint_pos_cos', 'robot0_joint_pos_sin', 'robot0_joint_vel']>\n",
      "17\n"
     ]
    }
   ],
   "source": [
    "print(f['data']['demo_0']['obs'].keys())\n",
    "print(len(f['data']['demo_0']['obs'].keys()))"
   ]
  },
  {
   "cell_type": "code",
   "execution_count": 9,
   "metadata": {},
   "outputs": [
    {
     "ename": "KeyError",
     "evalue": "\"Unable to open object (object 'agentview_depth' doesn't exist)\"",
     "output_type": "error",
     "traceback": [
      "\u001b[0;31m---------------------------------------------------------------------------\u001b[0m",
      "\u001b[0;31mKeyError\u001b[0m                                  Traceback (most recent call last)",
      "\u001b[1;32m/home/yixuan/general_dp/scripts/vis_data.ipynb Cell 9\u001b[0m line \u001b[0;36m3\n\u001b[1;32m      <a href='vscode-notebook-cell://ssh-remote%2B192.17.178.207/home/yixuan/general_dp/scripts/vis_data.ipynb#X13sdnNjb2RlLXJlbW90ZQ%3D%3D?line=0'>1</a>\u001b[0m camera_names \u001b[39m=\u001b[39m [\u001b[39m'\u001b[39m\u001b[39magentview\u001b[39m\u001b[39m'\u001b[39m, \u001b[39m'\u001b[39m\u001b[39mrobot0_eye_in_hand\u001b[39m\u001b[39m'\u001b[39m]\n\u001b[0;32m----> <a href='vscode-notebook-cell://ssh-remote%2B192.17.178.207/home/yixuan/general_dp/scripts/vis_data.ipynb#X13sdnNjb2RlLXJlbW90ZQ%3D%3D?line=2'>3</a>\u001b[0m T \u001b[39m=\u001b[39m np\u001b[39m.\u001b[39marray(f[\u001b[39m'\u001b[39;49m\u001b[39mdata\u001b[39;49m\u001b[39m'\u001b[39;49m][\u001b[39m'\u001b[39;49m\u001b[39mdemo_0\u001b[39;49m\u001b[39m'\u001b[39;49m][\u001b[39m'\u001b[39;49m\u001b[39mobs\u001b[39;49m\u001b[39m'\u001b[39;49m][\u001b[39m'\u001b[39;49m\u001b[39magentview_depth\u001b[39;49m\u001b[39m'\u001b[39;49m])\u001b[39m.\u001b[39mshape[\u001b[39m0\u001b[39m]\n\u001b[1;32m      <a href='vscode-notebook-cell://ssh-remote%2B192.17.178.207/home/yixuan/general_dp/scripts/vis_data.ipynb#X13sdnNjb2RlLXJlbW90ZQ%3D%3D?line=4'>5</a>\u001b[0m \u001b[39mfor\u001b[39;00m t \u001b[39min\u001b[39;00m \u001b[39mrange\u001b[39m(T):\n\u001b[1;32m      <a href='vscode-notebook-cell://ssh-remote%2B192.17.178.207/home/yixuan/general_dp/scripts/vis_data.ipynb#X13sdnNjb2RlLXJlbW90ZQ%3D%3D?line=5'>6</a>\u001b[0m     depths \u001b[39m=\u001b[39m np\u001b[39m.\u001b[39mstack([np\u001b[39m.\u001b[39marray(f[\u001b[39m'\u001b[39m\u001b[39mdata\u001b[39m\u001b[39m'\u001b[39m][\u001b[39m'\u001b[39m\u001b[39mdemo_0\u001b[39m\u001b[39m'\u001b[39m][\u001b[39m'\u001b[39m\u001b[39mobs\u001b[39m\u001b[39m'\u001b[39m][camera_name \u001b[39m+\u001b[39m \u001b[39m'\u001b[39m\u001b[39m_depth\u001b[39m\u001b[39m'\u001b[39m])[t,:,:,\u001b[39m0\u001b[39m] \u001b[39mfor\u001b[39;00m camera_name \u001b[39min\u001b[39;00m camera_names], axis\u001b[39m=\u001b[39m\u001b[39m0\u001b[39m)\n",
      "File \u001b[0;32mh5py/_objects.pyx:54\u001b[0m, in \u001b[0;36mh5py._objects.with_phil.wrapper\u001b[0;34m()\u001b[0m\n",
      "File \u001b[0;32mh5py/_objects.pyx:55\u001b[0m, in \u001b[0;36mh5py._objects.with_phil.wrapper\u001b[0;34m()\u001b[0m\n",
      "File \u001b[0;32m~/miniforge3/envs/robodiff/lib/python3.9/site-packages/h5py/_hl/group.py:328\u001b[0m, in \u001b[0;36mGroup.__getitem__\u001b[0;34m(self, name)\u001b[0m\n\u001b[1;32m    326\u001b[0m         \u001b[39mraise\u001b[39;00m \u001b[39mValueError\u001b[39;00m(\u001b[39m\"\u001b[39m\u001b[39mInvalid HDF5 object reference\u001b[39m\u001b[39m\"\u001b[39m)\n\u001b[1;32m    327\u001b[0m \u001b[39melif\u001b[39;00m \u001b[39misinstance\u001b[39m(name, (\u001b[39mbytes\u001b[39m, \u001b[39mstr\u001b[39m)):\n\u001b[0;32m--> 328\u001b[0m     oid \u001b[39m=\u001b[39m h5o\u001b[39m.\u001b[39;49mopen(\u001b[39mself\u001b[39;49m\u001b[39m.\u001b[39;49mid, \u001b[39mself\u001b[39;49m\u001b[39m.\u001b[39;49m_e(name), lapl\u001b[39m=\u001b[39;49m\u001b[39mself\u001b[39;49m\u001b[39m.\u001b[39;49m_lapl)\n\u001b[1;32m    329\u001b[0m \u001b[39melse\u001b[39;00m:\n\u001b[1;32m    330\u001b[0m     \u001b[39mraise\u001b[39;00m \u001b[39mTypeError\u001b[39;00m(\u001b[39m\"\u001b[39m\u001b[39mAccessing a group is done with bytes or str, \u001b[39m\u001b[39m\"\u001b[39m\n\u001b[1;32m    331\u001b[0m                     \u001b[39m\"\u001b[39m\u001b[39m not \u001b[39m\u001b[39m{}\u001b[39;00m\u001b[39m\"\u001b[39m\u001b[39m.\u001b[39mformat(\u001b[39mtype\u001b[39m(name)))\n",
      "File \u001b[0;32mh5py/_objects.pyx:54\u001b[0m, in \u001b[0;36mh5py._objects.with_phil.wrapper\u001b[0;34m()\u001b[0m\n",
      "File \u001b[0;32mh5py/_objects.pyx:55\u001b[0m, in \u001b[0;36mh5py._objects.with_phil.wrapper\u001b[0;34m()\u001b[0m\n",
      "File \u001b[0;32mh5py/h5o.pyx:190\u001b[0m, in \u001b[0;36mh5py.h5o.open\u001b[0;34m()\u001b[0m\n",
      "\u001b[0;31mKeyError\u001b[0m: \"Unable to open object (object 'agentview_depth' doesn't exist)\""
     ]
    }
   ],
   "source": [
    "camera_names = ['agentview', 'robot0_eye_in_hand']\n",
    "\n",
    "T = np.array(f['data']['demo_0']['obs']['agentview_depth']).shape[0]\n",
    "\n",
    "for t in range(T):\n",
    "    depths = np.stack([np.array(f['data']['demo_0']['obs'][camera_name + '_depth'])[t,:,:,0] for camera_name in camera_names], axis=0)\n",
    "    colors = np.stack([np.array(f['data']['demo_0']['obs'][camera_name + '_image'])[t,:,:,:] for camera_name in camera_names], axis=0)\n",
    "    Ks = np.stack([np.array(f['data']['demo_0']['obs'][camera_name + '_intrinsic'])[t,:,:] for camera_name in camera_names], axis=0)\n",
    "    Rs = np.stack([np.linalg.inv(np.array(f['data']['demo_0']['obs'][camera_name + '_extrinsic'])[t,:,:]) for camera_name in camera_names], axis=0)\n",
    "    curr_pcd = aggr_point_cloud_from_data(colors, depths, Ks, Rs, downsample=False)\n",
    "    \n",
    "    # o3d.visualization.draw_geometries([curr_pcd])\n",
    "    \n",
    "    if t == 0:\n",
    "        pcd = copy.deepcopy(curr_pcd)\n",
    "        visualizer = o3d.visualization.Visualizer()\n",
    "        visualizer.create_window()\n",
    "\n",
    "        visualizer.add_geometry(pcd)\n",
    "        \n",
    "        visualizer.update_geometry(pcd)\n",
    "        visualizer.poll_events()\n",
    "        visualizer.update_renderer()\n",
    "        visualizer.run()\n",
    "        \n",
    "        img = visualizer.capture_screen_float_buffer()\n",
    "        img = np.asarray(img)[..., ::-1]\n",
    "        \n",
    "        vid = cv2.VideoWriter('out.avi',cv2.VideoWriter_fourcc('M','J','P','G'), 10, (img.shape[1],img.shape[0]))\n",
    "        vid.write((img*255).astype(np.uint8))\n",
    "    else:\n",
    "        pcd.points = curr_pcd.points\n",
    "        pcd.colors = curr_pcd.colors\n",
    "        \n",
    "        visualizer.update_geometry(pcd)\n",
    "        visualizer.poll_events()\n",
    "        visualizer.update_renderer()\n",
    "\n",
    "        img = visualizer.capture_screen_float_buffer()\n",
    "        img = np.asarray(img)[..., ::-1]\n",
    "        img = np.asarray(img)\n",
    "        vid.write((img*255).astype(np.uint8))\n",
    "        \n",
    "vid.release()"
   ]
  },
  {
   "cell_type": "code",
   "execution_count": 10,
   "metadata": {},
   "outputs": [
    {
     "data": {
      "text/plain": [
       "(2, 360, 360, 3)"
      ]
     },
     "execution_count": 10,
     "metadata": {},
     "output_type": "execute_result"
    }
   ],
   "source": [
    "colors = np.stack([np.array(f['data']['demo_0']['obs'][camera_name + '_image'])[t,:,:,:] for camera_name in camera_names], axis=0)\n",
    "colors.shape"
   ]
  },
  {
   "cell_type": "code",
   "execution_count": null,
   "metadata": {},
   "outputs": [],
   "source": []
  },
  {
   "cell_type": "code",
   "execution_count": null,
   "metadata": {},
   "outputs": [],
   "source": []
  }
 ],
 "metadata": {
  "kernelspec": {
   "display_name": "robodiff",
   "language": "python",
   "name": "python3"
  },
  "language_info": {
   "codemirror_mode": {
    "name": "ipython",
    "version": 3
   },
   "file_extension": ".py",
   "mimetype": "text/x-python",
   "name": "python",
   "nbconvert_exporter": "python",
   "pygments_lexer": "ipython3",
   "version": "3.9.18"
  },
  "orig_nbformat": 4
 },
 "nbformat": 4,
 "nbformat_minor": 2
}
